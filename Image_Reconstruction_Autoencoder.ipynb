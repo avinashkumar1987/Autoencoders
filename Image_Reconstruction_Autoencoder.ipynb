{
  "nbformat": 4,
  "nbformat_minor": 0,
  "metadata": {
    "colab": {
      "name": "Image_Reconstruction-Autoencoder.ipynb",
      "provenance": [],
      "collapsed_sections": []
    },
    "kernelspec": {
      "name": "python3",
      "display_name": "Python 3"
    },
    "language_info": {
      "name": "python"
    },
    "widgets": {
      "application/vnd.jupyter.widget-state+json": {
        "bf45e877514f4e22b62c3761d3c69e38": {
          "model_module": "@jupyter-widgets/controls",
          "model_name": "HBoxModel",
          "model_module_version": "1.5.0",
          "state": {
            "_dom_classes": [],
            "_model_module": "@jupyter-widgets/controls",
            "_model_module_version": "1.5.0",
            "_model_name": "HBoxModel",
            "_view_count": null,
            "_view_module": "@jupyter-widgets/controls",
            "_view_module_version": "1.5.0",
            "_view_name": "HBoxView",
            "box_style": "",
            "children": [
              "IPY_MODEL_7ac0103df2a84dc7bf72d7552e3bff64",
              "IPY_MODEL_4efc2d3af3a74050b12a21c2eb7b75b9",
              "IPY_MODEL_0ac9deb282824c8db96912e051b7baa2"
            ],
            "layout": "IPY_MODEL_d63feae3d490421dae6c2fd9e5c45ee4"
          }
        },
        "7ac0103df2a84dc7bf72d7552e3bff64": {
          "model_module": "@jupyter-widgets/controls",
          "model_name": "HTMLModel",
          "model_module_version": "1.5.0",
          "state": {
            "_dom_classes": [],
            "_model_module": "@jupyter-widgets/controls",
            "_model_module_version": "1.5.0",
            "_model_name": "HTMLModel",
            "_view_count": null,
            "_view_module": "@jupyter-widgets/controls",
            "_view_module_version": "1.5.0",
            "_view_name": "HTMLView",
            "description": "",
            "description_tooltip": null,
            "layout": "IPY_MODEL_49b733177dd34f9089a4cf6301925a9e",
            "placeholder": "​",
            "style": "IPY_MODEL_798724250a504d1ea888b6ff7d770e24",
            "value": "100%"
          }
        },
        "4efc2d3af3a74050b12a21c2eb7b75b9": {
          "model_module": "@jupyter-widgets/controls",
          "model_name": "FloatProgressModel",
          "model_module_version": "1.5.0",
          "state": {
            "_dom_classes": [],
            "_model_module": "@jupyter-widgets/controls",
            "_model_module_version": "1.5.0",
            "_model_name": "FloatProgressModel",
            "_view_count": null,
            "_view_module": "@jupyter-widgets/controls",
            "_view_module_version": "1.5.0",
            "_view_name": "ProgressView",
            "bar_style": "success",
            "description": "",
            "description_tooltip": null,
            "layout": "IPY_MODEL_d494c3a691c84e61bebdac19b854c3f9",
            "max": 18983,
            "min": 0,
            "orientation": "horizontal",
            "style": "IPY_MODEL_946a290154144d619ba71d215503b513",
            "value": 18983
          }
        },
        "0ac9deb282824c8db96912e051b7baa2": {
          "model_module": "@jupyter-widgets/controls",
          "model_name": "HTMLModel",
          "model_module_version": "1.5.0",
          "state": {
            "_dom_classes": [],
            "_model_module": "@jupyter-widgets/controls",
            "_model_module_version": "1.5.0",
            "_model_name": "HTMLModel",
            "_view_count": null,
            "_view_module": "@jupyter-widgets/controls",
            "_view_module_version": "1.5.0",
            "_view_name": "HTMLView",
            "description": "",
            "description_tooltip": null,
            "layout": "IPY_MODEL_24951e11e99a42a587ffb290a72f2916",
            "placeholder": "​",
            "style": "IPY_MODEL_1b27177f60624d3e9cad623cbc239ecb",
            "value": " 18983/18983 [00:30&lt;00:00, 1315.53it/s]"
          }
        },
        "d63feae3d490421dae6c2fd9e5c45ee4": {
          "model_module": "@jupyter-widgets/base",
          "model_name": "LayoutModel",
          "model_module_version": "1.2.0",
          "state": {
            "_model_module": "@jupyter-widgets/base",
            "_model_module_version": "1.2.0",
            "_model_name": "LayoutModel",
            "_view_count": null,
            "_view_module": "@jupyter-widgets/base",
            "_view_module_version": "1.2.0",
            "_view_name": "LayoutView",
            "align_content": null,
            "align_items": null,
            "align_self": null,
            "border": null,
            "bottom": null,
            "display": null,
            "flex": null,
            "flex_flow": null,
            "grid_area": null,
            "grid_auto_columns": null,
            "grid_auto_flow": null,
            "grid_auto_rows": null,
            "grid_column": null,
            "grid_gap": null,
            "grid_row": null,
            "grid_template_areas": null,
            "grid_template_columns": null,
            "grid_template_rows": null,
            "height": null,
            "justify_content": null,
            "justify_items": null,
            "left": null,
            "margin": null,
            "max_height": null,
            "max_width": null,
            "min_height": null,
            "min_width": null,
            "object_fit": null,
            "object_position": null,
            "order": null,
            "overflow": null,
            "overflow_x": null,
            "overflow_y": null,
            "padding": null,
            "right": null,
            "top": null,
            "visibility": null,
            "width": null
          }
        },
        "49b733177dd34f9089a4cf6301925a9e": {
          "model_module": "@jupyter-widgets/base",
          "model_name": "LayoutModel",
          "model_module_version": "1.2.0",
          "state": {
            "_model_module": "@jupyter-widgets/base",
            "_model_module_version": "1.2.0",
            "_model_name": "LayoutModel",
            "_view_count": null,
            "_view_module": "@jupyter-widgets/base",
            "_view_module_version": "1.2.0",
            "_view_name": "LayoutView",
            "align_content": null,
            "align_items": null,
            "align_self": null,
            "border": null,
            "bottom": null,
            "display": null,
            "flex": null,
            "flex_flow": null,
            "grid_area": null,
            "grid_auto_columns": null,
            "grid_auto_flow": null,
            "grid_auto_rows": null,
            "grid_column": null,
            "grid_gap": null,
            "grid_row": null,
            "grid_template_areas": null,
            "grid_template_columns": null,
            "grid_template_rows": null,
            "height": null,
            "justify_content": null,
            "justify_items": null,
            "left": null,
            "margin": null,
            "max_height": null,
            "max_width": null,
            "min_height": null,
            "min_width": null,
            "object_fit": null,
            "object_position": null,
            "order": null,
            "overflow": null,
            "overflow_x": null,
            "overflow_y": null,
            "padding": null,
            "right": null,
            "top": null,
            "visibility": null,
            "width": null
          }
        },
        "798724250a504d1ea888b6ff7d770e24": {
          "model_module": "@jupyter-widgets/controls",
          "model_name": "DescriptionStyleModel",
          "model_module_version": "1.5.0",
          "state": {
            "_model_module": "@jupyter-widgets/controls",
            "_model_module_version": "1.5.0",
            "_model_name": "DescriptionStyleModel",
            "_view_count": null,
            "_view_module": "@jupyter-widgets/base",
            "_view_module_version": "1.2.0",
            "_view_name": "StyleView",
            "description_width": ""
          }
        },
        "d494c3a691c84e61bebdac19b854c3f9": {
          "model_module": "@jupyter-widgets/base",
          "model_name": "LayoutModel",
          "model_module_version": "1.2.0",
          "state": {
            "_model_module": "@jupyter-widgets/base",
            "_model_module_version": "1.2.0",
            "_model_name": "LayoutModel",
            "_view_count": null,
            "_view_module": "@jupyter-widgets/base",
            "_view_module_version": "1.2.0",
            "_view_name": "LayoutView",
            "align_content": null,
            "align_items": null,
            "align_self": null,
            "border": null,
            "bottom": null,
            "display": null,
            "flex": null,
            "flex_flow": null,
            "grid_area": null,
            "grid_auto_columns": null,
            "grid_auto_flow": null,
            "grid_auto_rows": null,
            "grid_column": null,
            "grid_gap": null,
            "grid_row": null,
            "grid_template_areas": null,
            "grid_template_columns": null,
            "grid_template_rows": null,
            "height": null,
            "justify_content": null,
            "justify_items": null,
            "left": null,
            "margin": null,
            "max_height": null,
            "max_width": null,
            "min_height": null,
            "min_width": null,
            "object_fit": null,
            "object_position": null,
            "order": null,
            "overflow": null,
            "overflow_x": null,
            "overflow_y": null,
            "padding": null,
            "right": null,
            "top": null,
            "visibility": null,
            "width": null
          }
        },
        "946a290154144d619ba71d215503b513": {
          "model_module": "@jupyter-widgets/controls",
          "model_name": "ProgressStyleModel",
          "model_module_version": "1.5.0",
          "state": {
            "_model_module": "@jupyter-widgets/controls",
            "_model_module_version": "1.5.0",
            "_model_name": "ProgressStyleModel",
            "_view_count": null,
            "_view_module": "@jupyter-widgets/base",
            "_view_module_version": "1.2.0",
            "_view_name": "StyleView",
            "bar_color": null,
            "description_width": ""
          }
        },
        "24951e11e99a42a587ffb290a72f2916": {
          "model_module": "@jupyter-widgets/base",
          "model_name": "LayoutModel",
          "model_module_version": "1.2.0",
          "state": {
            "_model_module": "@jupyter-widgets/base",
            "_model_module_version": "1.2.0",
            "_model_name": "LayoutModel",
            "_view_count": null,
            "_view_module": "@jupyter-widgets/base",
            "_view_module_version": "1.2.0",
            "_view_name": "LayoutView",
            "align_content": null,
            "align_items": null,
            "align_self": null,
            "border": null,
            "bottom": null,
            "display": null,
            "flex": null,
            "flex_flow": null,
            "grid_area": null,
            "grid_auto_columns": null,
            "grid_auto_flow": null,
            "grid_auto_rows": null,
            "grid_column": null,
            "grid_gap": null,
            "grid_row": null,
            "grid_template_areas": null,
            "grid_template_columns": null,
            "grid_template_rows": null,
            "height": null,
            "justify_content": null,
            "justify_items": null,
            "left": null,
            "margin": null,
            "max_height": null,
            "max_width": null,
            "min_height": null,
            "min_width": null,
            "object_fit": null,
            "object_position": null,
            "order": null,
            "overflow": null,
            "overflow_x": null,
            "overflow_y": null,
            "padding": null,
            "right": null,
            "top": null,
            "visibility": null,
            "width": null
          }
        },
        "1b27177f60624d3e9cad623cbc239ecb": {
          "model_module": "@jupyter-widgets/controls",
          "model_name": "DescriptionStyleModel",
          "model_module_version": "1.5.0",
          "state": {
            "_model_module": "@jupyter-widgets/controls",
            "_model_module_version": "1.5.0",
            "_model_name": "DescriptionStyleModel",
            "_view_count": null,
            "_view_module": "@jupyter-widgets/base",
            "_view_module_version": "1.2.0",
            "_view_name": "StyleView",
            "description_width": ""
          }
        }
      }
    }
  },
  "cells": [
    {
      "cell_type": "markdown",
      "source": [
        "### Loading the packages"
      ],
      "metadata": {
        "id": "tFJIeJtILiz1"
      }
    },
    {
      "cell_type": "code",
      "execution_count": null,
      "metadata": {
        "id": "1Z_9chT1IICU"
      },
      "outputs": [],
      "source": [
        "import matplotlib.pyplot as plt\n",
        "import numpy as np\n",
        "import pandas as pd\n",
        "import tensorflow as tf\n",
        "\n",
        "from sklearn.metrics import accuracy_score, precision_score, recall_score\n",
        "from sklearn.model_selection import train_test_split\n",
        "from tensorflow.keras import layers,losses\n",
        "from tensorflow.keras.models import Model\n",
        "\n",
        "from tensorflow.keras.datasets import fashion_mnist"
      ]
    },
    {
      "cell_type": "markdown",
      "source": [
        "### Load the dataset"
      ],
      "metadata": {
        "id": "-QYegt1SI4YY"
      }
    },
    {
      "cell_type": "code",
      "source": [
        "#\n",
        "!wget http://vis-www.cs.umass.edu/lfw/lfw-deepfunneled.tgz\n",
        "# !tar zxvf lfw-deepfunneled.tgz"
      ],
      "metadata": {
        "id": "nErAfR6KxGya"
      },
      "execution_count": null,
      "outputs": []
    },
    {
      "cell_type": "code",
      "source": [
        "!wget http://vis-www.cs.umass.edu/lfw/lfw.tgz\n",
        "# !tar zxvf lfw.tgz"
      ],
      "metadata": {
        "id": "p02X1XhLxGcy"
      },
      "execution_count": null,
      "outputs": []
    },
    {
      "cell_type": "code",
      "source": [
        "# http://www.cs.columbia.edu/CAVE/databases/pubfig/download/lfw_attributes.txt\n",
        "ATTRS_NAME = \"lfw_attributes.txt\"\n",
        "\n",
        "# http://vis-www.cs.umass.edu/lfw/lfw-deepfunneled.tgz\n",
        "IMAGES_NAME = \"lfw-deepfunneled.tgz\"\n",
        "\n",
        "# http://vis-www.cs.umass.edu/lfw/lfw.tgz\n",
        "RAW_IMAGES_NAME = \"lfw.tgz\""
      ],
      "metadata": {
        "id": "wyUp2u0fy7cz"
      },
      "execution_count": null,
      "outputs": []
    },
    {
      "cell_type": "code",
      "source": [
        "import cv2"
      ],
      "metadata": {
        "id": "vN-n6MhqzDbO"
      },
      "execution_count": null,
      "outputs": []
    },
    {
      "cell_type": "code",
      "source": [
        "def decode_image_from_raw_bytes(raw_bytes):\n",
        "    img = cv2.imdecode(np.asarray(bytearray(raw_bytes), dtype=np.uint8), 1)\n",
        "    img = cv2.cvtColor(img, cv2.COLOR_BGR2RGB)\n",
        "    return img"
      ],
      "metadata": {
        "id": "kXkmGBKcyKje"
      },
      "execution_count": null,
      "outputs": []
    },
    {
      "cell_type": "code",
      "source": [
        "def load_lfw_dataset(\n",
        "        use_raw=False,\n",
        "        dx=80, dy=80,\n",
        "        dimx=45, dimy=45):\n",
        "\n",
        "    # Read attrs\n",
        "    df_attrs = pd.read_csv(ATTRS_NAME, sep='\\t', skiprows=1)\n",
        "    df_attrs = pd.DataFrame(df_attrs.iloc[:, :-1].values, columns=df_attrs.columns[1:])\n",
        "    imgs_with_attrs = set(map(tuple, df_attrs[[\"person\", \"imagenum\"]].values))\n",
        "\n",
        "    # Read photos\n",
        "    all_photos = []\n",
        "    photo_ids = []\n",
        "\n",
        "    # tqdm in used to show progress bar while reading the data in a notebook here, you can change\n",
        "    # tqdm_notebook to use it outside a notebook\n",
        "    with tarfile.open(RAW_IMAGES_NAME if use_raw else IMAGES_NAME) as f:\n",
        "        for m in tqdm.tqdm_notebook(f.getmembers()):\n",
        "            # Only process image files from the compressed data\n",
        "            if m.isfile() and m.name.endswith(\".jpg\"):\n",
        "                # Prepare image\n",
        "                img = decode_image_from_raw_bytes(f.extractfile(m).read())\n",
        "\n",
        "                # Crop only faces and resize it\n",
        "                img = img[dy:-dy, dx:-dx]\n",
        "                img = cv2.resize(img, (dimx, dimy))\n",
        "\n",
        "                # Parse person and append it to the collected data\n",
        "                fname = os.path.split(m.name)[-1]\n",
        "                fname_splitted = fname[:-4].replace('_', ' ').split()\n",
        "                person_id = ' '.join(fname_splitted[:-1])\n",
        "                photo_number = int(fname_splitted[-1])\n",
        "                if (person_id, photo_number) in imgs_with_attrs:\n",
        "                    all_photos.append(img)\n",
        "                    photo_ids.append({'person': person_id, 'imagenum': photo_number})\n",
        "\n",
        "    photo_ids = pd.DataFrame(photo_ids)\n",
        "    all_photos = np.stack(all_photos).astype('uint8')\n",
        "\n",
        "    # Preserve photo_ids order!\n",
        "    all_attrs = photo_ids.merge(df_attrs, on=('person', 'imagenum')).drop([\"person\", \"imagenum\"], axis=1)\n",
        "\n",
        "    return all_photos, all_attrs"
      ],
      "metadata": {
        "id": "6mCEVUjMyLRu"
      },
      "execution_count": null,
      "outputs": []
    },
    {
      "cell_type": "code",
      "source": [
        "import numpy as np\n",
        "import pandas as pd\n",
        "import tqdm\n",
        "import tarfile\n",
        "import os\n",
        "X, attr = load_lfw_dataset(use_raw=True, dimx=32, dimy=32)"
      ],
      "metadata": {
        "colab": {
          "base_uri": "https://localhost:8080/",
          "height": 104,
          "referenced_widgets": [
            "bf45e877514f4e22b62c3761d3c69e38",
            "7ac0103df2a84dc7bf72d7552e3bff64",
            "4efc2d3af3a74050b12a21c2eb7b75b9",
            "0ac9deb282824c8db96912e051b7baa2",
            "d63feae3d490421dae6c2fd9e5c45ee4",
            "49b733177dd34f9089a4cf6301925a9e",
            "798724250a504d1ea888b6ff7d770e24",
            "d494c3a691c84e61bebdac19b854c3f9",
            "946a290154144d619ba71d215503b513",
            "24951e11e99a42a587ffb290a72f2916",
            "1b27177f60624d3e9cad623cbc239ecb"
          ]
        },
        "id": "9gEGXzO2yLO2",
        "outputId": "da0a7dd1-7879-4f2d-ffa4-972b08abbe41"
      },
      "execution_count": null,
      "outputs": [
        {
          "output_type": "stream",
          "name": "stderr",
          "text": [
            "/usr/local/lib/python3.7/dist-packages/ipykernel_launcher.py:18: TqdmDeprecationWarning: This function will be removed in tqdm==5.0.0\n",
            "Please use `tqdm.notebook.tqdm` instead of `tqdm.tqdm_notebook`\n"
          ]
        },
        {
          "output_type": "display_data",
          "data": {
            "text/plain": [
              "  0%|          | 0/18983 [00:00<?, ?it/s]"
            ],
            "application/vnd.jupyter.widget-view+json": {
              "version_major": 2,
              "version_minor": 0,
              "model_id": "bf45e877514f4e22b62c3761d3c69e38"
            }
          },
          "metadata": {}
        }
      ]
    },
    {
      "cell_type": "code",
      "source": [
        "X = X.astype('float32') / 255.0 - 0.5"
      ],
      "metadata": {
        "id": "jarWcHcS0F0B"
      },
      "execution_count": null,
      "outputs": []
    },
    {
      "cell_type": "code",
      "source": [
        "import matplotlib.pyplot as plt\n",
        "def show_image(x):\n",
        "    plt.imshow(np.clip(x + 0.5, 0, 1))\n",
        "show_image(X[6])"
      ],
      "metadata": {
        "colab": {
          "base_uri": "https://localhost:8080/",
          "height": 266
        },
        "id": "qMeA9xLwyeC5",
        "outputId": "18990e77-d897-44c6-abd6-f5433fae40e2"
      },
      "execution_count": null,
      "outputs": [
        {
          "output_type": "display_data",
          "data": {
            "text/plain": [
              "<Figure size 432x288 with 1 Axes>"
            ],
            "image/png": "[encoded data removed]"
          },
          "metadata": {
            "needs_background": "light"
          }
        }
      ]
    },
    {
      "cell_type": "code",
      "source": [
        "from sklearn.model_selection import train_test_split\n",
        "x_train, x_test = train_test_split(X, test_size=0.1, random_state=42)\n",
        "print(x_train.shape)\n",
        "print(x_test.shape)"
      ],
      "metadata": {
        "colab": {
          "base_uri": "https://localhost:8080/"
        },
        "id": "YzLlQc7EI1Ux",
        "outputId": "8a9df7d8-f21a-4566-dac0-b8bc250b2cee"
      },
      "execution_count": null,
      "outputs": [
        {
          "output_type": "stream",
          "name": "stdout",
          "text": [
            "(11828, 32, 32, 3)\n",
            "(1315, 32, 32, 3)\n"
          ]
        }
      ]
    },
    {
      "cell_type": "markdown",
      "source": [
        "### Implementing the Autoencoder"
      ],
      "metadata": {
        "id": "PwCOalblLXrE"
      }
    },
    {
      "cell_type": "code",
      "source": [
        "latent_dim = 64\n",
        "img_shape = X.shape[1:]\n",
        "class Autoencoder(Model):\n",
        "    def __init__(self,latent_dim):\n",
        "        super(Autoencoder,self).__init__()\n",
        "        self.latent_dim = latent_dim\n",
        "        self.encoder = tf.keras.Sequential([\n",
        "            layers.Flatten(),\n",
        "            layers.Dense(latent_dim,activation='relu'),\n",
        "\n",
        "        ])\n",
        "        self.decoder = tf.keras.Sequential([\n",
        "            layers.Dense(np.prod(img_shape),activation='sigmoid'),\n",
        "            layers.Reshape(img_shape)                                  \n",
        "        ])\n",
        "    def call(self,x):\n",
        "        encoded=self.encoder(x)\n",
        "        decoded=self.decoder(encoded)\n",
        "        return decoded\n",
        "autoencoder=Autoencoder(latent_dim)"
      ],
      "metadata": {
        "id": "frahcYxRI2CB"
      },
      "execution_count": null,
      "outputs": []
    },
    {
      "cell_type": "code",
      "source": [
        "autoencoder.compile(optimizer='adamax',loss=losses.MeanSquaredError())\n"
      ],
      "metadata": {
        "id": "4m7h7hhXI18f"
      },
      "execution_count": null,
      "outputs": []
    },
    {
      "cell_type": "markdown",
      "source": [
        "### Model training"
      ],
      "metadata": {
        "id": "1tTvaC1ALer8"
      }
    },
    {
      "cell_type": "code",
      "source": [
        "history = autoencoder.fit(x_train,x_train,epochs=20,shuffle=True,\n",
        "                          validation_data=(x_test,x_test))"
      ],
      "metadata": {
        "colab": {
          "base_uri": "https://localhost:8080/"
        },
        "id": "p5zS4GuPT7XA",
        "outputId": "c6567192-16e2-42fe-e25b-5afbdd572188"
      },
      "execution_count": null,
      "outputs": [
        {
          "output_type": "stream",
          "name": "stdout",
          "text": [
            "Epoch 1/20\n",
            "370/370 [==============================] - 3s 8ms/step - loss: 0.0448 - val_loss: 0.0330\n",
            "Epoch 2/20\n",
            "370/370 [==============================] - 3s 8ms/step - loss: 0.0331 - val_loss: 0.0318\n",
            "Epoch 3/20\n",
            "370/370 [==============================] - 3s 8ms/step - loss: 0.0322 - val_loss: 0.0311\n",
            "Epoch 4/20\n",
            "370/370 [==============================] - 3s 8ms/step - loss: 0.0315 - val_loss: 0.0306\n",
            "Epoch 5/20\n",
            "370/370 [==============================] - 3s 8ms/step - loss: 0.0310 - val_loss: 0.0301\n",
            "Epoch 6/20\n",
            "370/370 [==============================] - 3s 8ms/step - loss: 0.0306 - val_loss: 0.0297\n",
            "Epoch 7/20\n",
            "370/370 [==============================] - 3s 8ms/step - loss: 0.0301 - val_loss: 0.0294\n",
            "Epoch 8/20\n",
            "370/370 [==============================] - 3s 8ms/step - loss: 0.0297 - val_loss: 0.0290\n",
            "Epoch 9/20\n",
            "370/370 [==============================] - 3s 8ms/step - loss: 0.0294 - val_loss: 0.0286\n",
            "Epoch 10/20\n",
            "370/370 [==============================] - 3s 8ms/step - loss: 0.0291 - val_loss: 0.0283\n",
            "Epoch 11/20\n",
            "370/370 [==============================] - 3s 9ms/step - loss: 0.0288 - val_loss: 0.0280\n",
            "Epoch 12/20\n",
            "370/370 [==============================] - 3s 8ms/step - loss: 0.0286 - val_loss: 0.0278\n",
            "Epoch 13/20\n",
            "370/370 [==============================] - 3s 8ms/step - loss: 0.0283 - val_loss: 0.0276\n",
            "Epoch 14/20\n",
            "370/370 [==============================] - 3s 8ms/step - loss: 0.0282 - val_loss: 0.0275\n",
            "Epoch 15/20\n",
            "370/370 [==============================] - 3s 8ms/step - loss: 0.0280 - val_loss: 0.0273\n",
            "Epoch 16/20\n",
            "370/370 [==============================] - 3s 8ms/step - loss: 0.0279 - val_loss: 0.0272\n",
            "Epoch 17/20\n",
            "370/370 [==============================] - 3s 7ms/step - loss: 0.0277 - val_loss: 0.0270\n",
            "Epoch 18/20\n",
            "370/370 [==============================] - 3s 8ms/step - loss: 0.0276 - val_loss: 0.0269\n",
            "Epoch 19/20\n",
            "370/370 [==============================] - 3s 8ms/step - loss: 0.0275 - val_loss: 0.0268\n",
            "Epoch 20/20\n",
            "370/370 [==============================] - 3s 8ms/step - loss: 0.0275 - val_loss: 0.0268\n"
          ]
        }
      ]
    },
    {
      "cell_type": "code",
      "source": [
        "plt.plot(history.history['loss'])\n",
        "plt.plot(history.history['val_loss'])\n",
        "plt.title('model loss')\n",
        "plt.ylabel('loss')\n",
        "plt.xlabel('epoch')\n",
        "plt.legend(['train', 'test'], loc='upper left')\n",
        "plt.show()"
      ],
      "metadata": {
        "colab": {
          "base_uri": "https://localhost:8080/",
          "height": 295
        },
        "id": "3rlR6oQA3QHi",
        "outputId": "fecaa1e2-66ea-4cab-aaf3-d9c127d1df35"
      },
      "execution_count": null,
      "outputs": [
        {
          "output_type": "display_data",
          "data": {
            "text/plain": [
              "<Figure size 432x288 with 1 Axes>"
            ],
            "image/png": "[encoded data removed]"
          },
          "metadata": {
            "needs_background": "light"
          }
        }
      ]
    },
    {
      "cell_type": "code",
      "source": [
        "def visualize(img,encoder,decoder):\n",
        "    \"\"\"Draws original, encoded and decoded images\"\"\"\n",
        "    # img[None] will have shape of (1, 32, 32, 3) which is the same as the model input\n",
        "    code = encoder.predict(img[None])[0]\n",
        "    reco = decoder.predict(code[None])[0]\n",
        "\n",
        "    plt.subplot(1,3,1)\n",
        "    plt.title(\"Original\")\n",
        "    show_image(img)\n",
        "\n",
        "    plt.subplot(1,3,2)\n",
        "    plt.title(\"Code\")\n",
        "    plt.imshow(code.reshape([code.shape[-1]//2,-1]))\n",
        "\n",
        "    plt.subplot(1,3,3)\n",
        "    plt.title(\"Reconstructed\")\n",
        "    show_image(reco)\n",
        "    plt.show()\n",
        "\n",
        "for i in range(5):\n",
        "    img = x_test[i]\n",
        "    visualize(img,autoencoder.encoder,autoencoder.decoder)"
      ],
      "metadata": {
        "colab": {
          "base_uri": "https://localhost:8080/",
          "height": 1000
        },
        "id": "3kf1TRf93kXH",
        "outputId": "bb5baa8e-5f44-46d8-cd47-511b0371cbc9"
      },
      "execution_count": null,
      "outputs": [
        {
          "output_type": "display_data",
          "data": {
            "text/plain": [
              "<Figure size 432x288 with 3 Axes>"
            ],
            "image/png": "[encoded data removed]"
          },
          "metadata": {
            "needs_background": "light"
          }
        },
        {
          "output_type": "display_data",
          "data": {
            "text/plain": [
              "<Figure size 432x288 with 3 Axes>"
            ],
            "image/png": "[encoded data removed]"
          },
          "metadata": {
            "needs_background": "light"
          }
        },
        {
          "output_type": "display_data",
          "data": {
            "text/plain": [
              "<Figure size 432x288 with 3 Axes>"
            ],
            "image/png": "[encoded data removed]"
          },
          "metadata": {
            "needs_background": "light"
          }
        },
        {
          "output_type": "display_data",
          "data": {
            "text/plain": [
              "<Figure size 432x288 with 3 Axes>"
            ],
            "image/png": "[encoded data removed]"
          },
          "metadata": {
            "needs_background": "light"
          }
        },
        {
          "output_type": "display_data",
          "data": {
            "text/plain": [
              "<Figure size 432x288 with 3 Axes>"
            ],
            "image/png": "[encoded data removed]"
          },
          "metadata": {
            "needs_background": "light"
          }
        }
      ]
    },
    {
      "cell_type": "code",
      "source": [
        ""
      ],
      "metadata": {
        "id": "7IdBrW71Wbtq"
      },
      "execution_count": null,
      "outputs": []
    }
  ]
}