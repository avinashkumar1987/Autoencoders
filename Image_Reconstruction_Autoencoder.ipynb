{
  "cells": [
    {
      "cell_type": "markdown",
      "metadata": {
        "id": "tFJIeJtILiz1"
      },
      "source": [
        "### Loading the packages"
      ]
    },
    {
      "cell_type": "code",
      "execution_count": 3,
      "metadata": {
        "id": "1Z_9chT1IICU"
      },
      "outputs": [],
      "source": [
        "import matplotlib.pyplot as plt\n",
        "import numpy as np\n",
        "import pandas as pd\n",
        "import tensorflow as tf\n",
        "\n",
        "from sklearn.metrics import accuracy_score, precision_score, recall_score\n",
        "from sklearn.model_selection import train_test_split\n",
        "from tensorflow.keras import layers,losses\n",
        "from tensorflow.keras.models import Model\n",
        "\n",
        "from tensorflow.keras.datasets import fashion_mnist"
      ]
    },
    {
      "cell_type": "markdown",
      "metadata": {
        "id": "-QYegt1SI4YY"
      },
      "source": [
        "### Load the dataset"
      ]
    },
    {
      "cell_type": "code",
      "execution_count": 7,
      "metadata": {
        "id": "nErAfR6KxGya"
      },
      "outputs": [
        {
          "name": "stderr",
          "output_type": "stream",
          "text": [
            "'wget' is not recognized as an internal or external command,\n",
            "operable program or batch file.\n"
          ]
        }
      ],
      "source": [
        "#\n",
        "!wget http://vis-www.cs.umass.edu/lfw/lfw-deepfunneled.tgz\n",
        "# !tar zxvf lfw-deepfunneled.tgz"
      ]
    },
    {
      "cell_type": "code",
      "execution_count": 4,
      "metadata": {},
      "outputs": [
        {
          "name": "stdout",
          "output_type": "stream",
          "text": [
            "Dataset downloaded and extracted successfully.\n"
          ]
        }
      ],
      "source": [
        "import requests\n",
        "import tarfile\n",
        "import os\n",
        "\n",
        "# URL of the dataset\n",
        "url = 'http://vis-www.cs.umass.edu/lfw/lfw-deepfunneled.tgz'\n",
        "file_name = 'lfw-deepfunneled.tgz'\n",
        "\n",
        "# Download the file\n",
        "response = requests.get(url, stream=True)\n",
        "with open(file_name, 'wb') as file:\n",
        "    for chunk in response.iter_content(chunk_size=1024): \n",
        "        if chunk:\n",
        "            file.write(chunk)\n",
        "\n",
        "# Extract the file\n",
        "with tarfile.open(file_name, 'r:gz') as tar:\n",
        "    tar.extractall()\n",
        "\n",
        "# Remove the tar file if you no longer need it\n",
        "os.remove(file_name)\n",
        "\n",
        "print(\"Dataset downloaded and extracted successfully.\")\n"
      ]
    },
    {
      "cell_type": "code",
      "execution_count": 16,
      "metadata": {
        "id": "p02X1XhLxGcy"
      },
      "outputs": [
        {
          "name": "stdout",
          "output_type": "stream",
          "text": [
            "Dataset downloaded and extracted successfully.\n"
          ]
        }
      ],
      "source": [
        "#!wget http://vis-www.cs.umass.edu/lfw/lfw.tgz\n",
        "# !tar zxvf lfw.tgz\n",
        "\n",
        "\n",
        "\n",
        "# URL of the new dataset\n",
        "url = 'http://vis-www.cs.umass.edu/lfw/lfw.tgz'\n",
        "file_name = 'lfw.tgz'\n",
        "\n",
        "# Download the file\n",
        "response = requests.get(url, stream=True)\n",
        "with open(file_name, 'wb') as file:\n",
        "    for chunk in response.iter_content(chunk_size=1024): \n",
        "        if chunk:\n",
        "            file.write(chunk)\n",
        "\n",
        "# Extract the file\n",
        "with tarfile.open(file_name, 'r:gz') as tar:\n",
        "    tar.extractall()\n",
        "\n",
        "# Remove the tar file if you no longer need it\n",
        "os.remove(file_name)\n",
        "\n",
        "print(\"Dataset downloaded and extracted successfully.\")\n"
      ]
    },
    {
      "cell_type": "code",
      "execution_count": 5,
      "metadata": {
        "id": "wyUp2u0fy7cz"
      },
      "outputs": [
        {
          "name": "stdout",
          "output_type": "stream",
          "text": [
            "All files downloaded and extracted successfully.\n"
          ]
        }
      ],
      "source": [
        "# # http://www.cs.columbia.edu/CAVE/databases/pubfig/download/lfw_attributes.txt\n",
        "# ATTRS_NAME = \"lfw_attributes.txt\"\n",
        "\n",
        "# # http://vis-www.cs.umass.edu/lfw/lfw-deepfunneled.tgz\n",
        "# IMAGES_NAME = \"lfw-deepfunneled.tgz\"\n",
        "\n",
        "# # http://vis-www.cs.umass.edu/lfw/lfw.tgz\n",
        "# RAW_IMAGES_NAME = \"lfw.tgz\"\n",
        "\n",
        "import requests\n",
        "import tarfile\n",
        "import os\n",
        "\n",
        "def download_file(url, local_filename):\n",
        "    \"\"\"Download a file from a URL and save it locally.\"\"\"\n",
        "    response = requests.get(url, stream=True)\n",
        "    with open(local_filename, 'wb') as file:\n",
        "        for chunk in response.iter_content(chunk_size=1024): \n",
        "            if chunk:\n",
        "                file.write(chunk)\n",
        "    return local_filename\n",
        "\n",
        "def extract_tar_file(file_name):\n",
        "    \"\"\"Extract a tar.gz file.\"\"\"\n",
        "    with tarfile.open(file_name, 'r:gz') as tar:\n",
        "        tar.extractall()\n",
        "\n",
        "# URLs\n",
        "ATTRS_URL = \"http://www.cs.columbia.edu/CAVE/databases/pubfig/download/lfw_attributes.txt\"\n",
        "IMAGES_URL = \"http://vis-www.cs.umass.edu/lfw/lfw-deepfunneled.tgz\"\n",
        "RAW_IMAGES_URL = \"http://vis-www.cs.umass.edu/lfw/lfw.tgz\"\n",
        "\n",
        "# Local filenames\n",
        "ATTRS_NAME = \"lfw_attributes.txt\"\n",
        "IMAGES_NAME = \"lfw-deepfunneled.tgz\"\n",
        "RAW_IMAGES_NAME = \"lfw.tgz\"\n",
        "\n",
        "# Download files\n",
        "download_file(ATTRS_URL, ATTRS_NAME)\n",
        "download_file(IMAGES_URL, IMAGES_NAME)\n",
        "download_file(RAW_IMAGES_URL, RAW_IMAGES_NAME)\n",
        "\n",
        "# Extract tar files\n",
        "extract_tar_file(IMAGES_NAME)\n",
        "extract_tar_file(RAW_IMAGES_NAME)\n",
        "\n",
        "# Remove tar files if no longer needed\n",
        "os.remove(IMAGES_NAME)\n",
        "os.remove(RAW_IMAGES_NAME)\n",
        "\n",
        "print(\"All files downloaded and extracted successfully.\")\n"
      ]
    },
    {
      "cell_type": "code",
      "execution_count": 11,
      "metadata": {
        "id": "vN-n6MhqzDbO"
      },
      "outputs": [],
      "source": [
        "import cv2"
      ]
    },
    {
      "cell_type": "code",
      "execution_count": 6,
      "metadata": {
        "id": "kXkmGBKcyKje"
      },
      "outputs": [],
      "source": [
        "def decode_image_from_raw_bytes(raw_bytes):\n",
        "    img = cv2.imdecode(np.asarray(bytearray(raw_bytes), dtype=np.uint8), 1)\n",
        "    img = cv2.cvtColor(img, cv2.COLOR_BGR2RGB)\n",
        "    return img"
      ]
    },
    {
      "cell_type": "code",
      "execution_count": 7,
      "metadata": {
        "id": "6mCEVUjMyLRu"
      },
      "outputs": [],
      "source": [
        "def load_lfw_dataset(\n",
        "        use_raw=False,\n",
        "        dx=80, dy=80,\n",
        "        dimx=45, dimy=45):\n",
        "\n",
        "    # Read attrs\n",
        "    df_attrs = pd.read_csv(ATTRS_NAME, sep='\\t', skiprows=1)\n",
        "    df_attrs = pd.DataFrame(df_attrs.iloc[:, :-1].values, columns=df_attrs.columns[1:])\n",
        "    imgs_with_attrs = set(map(tuple, df_attrs[[\"person\", \"imagenum\"]].values))\n",
        "\n",
        "    # Read photos\n",
        "    all_photos = []\n",
        "    photo_ids = []\n",
        "\n",
        "    # tqdm in used to show progress bar while reading the data in a notebook here, you can change\n",
        "    # tqdm_notebook to use it outside a notebook\n",
        "    with tarfile.open(RAW_IMAGES_NAME if use_raw else IMAGES_NAME) as f:\n",
        "        for m in tqdm.tqdm_notebook(f.getmembers()):\n",
        "            # Only process image files from the compressed data\n",
        "            if m.isfile() and m.name.endswith(\".jpg\"):\n",
        "                # Prepare image\n",
        "                img = decode_image_from_raw_bytes(f.extractfile(m).read())\n",
        "\n",
        "                # Crop only faces and resize it\n",
        "                img = img[dy:-dy, dx:-dx]\n",
        "                img = cv2.resize(img, (dimx, dimy))\n",
        "\n",
        "                # Parse person and append it to the collected data\n",
        "                fname = os.path.split(m.name)[-1]\n",
        "                fname_splitted = fname[:-4].replace('_', ' ').split()\n",
        "                person_id = ' '.join(fname_splitted[:-1])\n",
        "                photo_number = int(fname_splitted[-1])\n",
        "                if (person_id, photo_number) in imgs_with_attrs:\n",
        "                    all_photos.append(img)\n",
        "                    photo_ids.append({'person': person_id, 'imagenum': photo_number})\n",
        "\n",
        "    photo_ids = pd.DataFrame(photo_ids)\n",
        "    all_photos = np.stack(all_photos).astype('uint8')\n",
        "\n",
        "    # Preserve photo_ids order!\n",
        "    all_attrs = photo_ids.merge(df_attrs, on=('person', 'imagenum')).drop([\"person\", \"imagenum\"], axis=1)\n",
        "\n",
        "    return all_photos, all_attrs"
      ]
    },
    {
      "cell_type": "code",
      "execution_count": 8,
      "metadata": {},
      "outputs": [
        {
          "name": "stdout",
          "output_type": "stream",
          "text": [
            "lfw-deepfunneled.tgz downloaded and extracted successfully.\n",
            "lfw.tgz downloaded and extracted successfully.\n",
            "lfw_attributes.txt downloaded and extracted successfully.\n"
          ]
        },
        {
          "name": "stderr",
          "output_type": "stream",
          "text": [
            "C:\\Users\\AvinashKumar\\AppData\\Local\\Temp\\ipykernel_6392\\1693942627.py:54: TqdmDeprecationWarning: This function will be removed in tqdm==5.0.0\n",
            "Please use `tqdm.notebook.tqdm` instead of `tqdm.tqdm_notebook`\n",
            "  for m in tqdm.tqdm_notebook(f.getmembers()):\n"
          ]
        },
        {
          "data": {
            "application/vnd.jupyter.widget-view+json": {
              "model_id": "fe203882ff0744bf919b303c0d121d6d",
              "version_major": 2,
              "version_minor": 0
            },
            "text/plain": [
              "  0%|          | 0/18983 [00:00<?, ?it/s]"
            ]
          },
          "metadata": {},
          "output_type": "display_data"
        },
        {
          "name": "stdout",
          "output_type": "stream",
          "text": [
            "Dataset loaded successfully.\n"
          ]
        }
      ],
      "source": [
        "import requests\n",
        "import tarfile\n",
        "import os\n",
        "import numpy as np\n",
        "import pandas as pd\n",
        "import cv2\n",
        "import tqdm\n",
        "\n",
        "def download_and_extract(url, local_filename):\n",
        "    \"\"\"Download a file from a URL and extract it if it's a tar file.\"\"\"\n",
        "    # Download the file\n",
        "    response = requests.get(url, stream=True)\n",
        "    with open(local_filename, 'wb') as file:\n",
        "        for chunk in response.iter_content(chunk_size=1024): \n",
        "            if chunk:\n",
        "                file.write(chunk)\n",
        "\n",
        "    # Extract the file if it's a tar.gz\n",
        "    if local_filename.endswith('.tgz') or local_filename.endswith('.tar.gz'):\n",
        "        with tarfile.open(local_filename, 'r:gz') as tar:\n",
        "            tar.extractall()\n",
        "\n",
        "    print(f\"{local_filename} downloaded and extracted successfully.\")\n",
        "\n",
        "# URLs and local filenames\n",
        "datasets = [\n",
        "    ('http://vis-www.cs.umass.edu/lfw/lfw-deepfunneled.tgz', 'lfw-deepfunneled.tgz'),\n",
        "    ('http://vis-www.cs.umass.edu/lfw/lfw.tgz', 'lfw.tgz'),\n",
        "    ('http://www.cs.columbia.edu/CAVE/databases/pubfig/download/lfw_attributes.txt', 'lfw_attributes.txt')\n",
        "]\n",
        "\n",
        "# Download and extract each dataset\n",
        "for url, local_filename in datasets:\n",
        "    download_and_extract(url, local_filename)\n",
        "\n",
        "# File names\n",
        "ATTRS_NAME = \"lfw_attributes.txt\"\n",
        "IMAGES_NAME = \"lfw-deepfunneled.tgz\"\n",
        "RAW_IMAGES_NAME = \"lfw.tgz\"\n",
        "\n",
        "def load_lfw_dataset(use_raw=False, dx=80, dy=80, dimx=45, dimy=45):\n",
        "    # Read attrs\n",
        "    df_attrs = pd.read_csv(ATTRS_NAME, sep='\\t', skiprows=1)\n",
        "    df_attrs = pd.DataFrame(df_attrs.iloc[:, :-1].values, columns=df_attrs.columns[1:])\n",
        "    imgs_with_attrs = set(map(tuple, df_attrs[[\"person\", \"imagenum\"]].values))\n",
        "\n",
        "    # Read photos\n",
        "    all_photos = []\n",
        "    photo_ids = []\n",
        "\n",
        "    # tqdm in used to show progress bar while reading the data in a notebook here, you can change\n",
        "    # tqdm_notebook to use it outside a notebook\n",
        "    with tarfile.open(RAW_IMAGES_NAME if use_raw else IMAGES_NAME) as f:\n",
        "        for m in tqdm.tqdm_notebook(f.getmembers()):\n",
        "            # Only process image files from the compressed data\n",
        "            if m.isfile() and m.name.endswith(\".jpg\"):\n",
        "                # Prepare image\n",
        "                img = decode_image_from_raw_bytes(f.extractfile(m).read())\n",
        "\n",
        "                # Crop only faces and resize it\n",
        "                img = img[dy:-dy, dx:-dx]\n",
        "                img = cv2.resize(img, (dimx, dimy))\n",
        "\n",
        "                # Parse person and append it to the collected data\n",
        "                fname = os.path.split(m.name)[-1]\n",
        "                fname_splitted = fname[:-4].replace('_', ' ').split()\n",
        "                person_id = ' '.join(fname_splitted[:-1])\n",
        "                photo_number = int(fname_splitted[-1])\n",
        "                if (person_id, photo_number) in imgs_with_attrs:\n",
        "                    all_photos.append(img)\n",
        "                    photo_ids.append({'person': person_id, 'imagenum': photo_number})\n",
        "\n",
        "    photo_ids = pd.DataFrame(photo_ids)\n",
        "    all_photos = np.stack(all_photos).astype('uint8')\n",
        "\n",
        "    # Preserve photo_ids order!\n",
        "    all_attrs = photo_ids.merge(df_attrs, on=('person', 'imagenum')).drop([\"person\", \"imagenum\"], axis=1)\n",
        "\n",
        "    return all_photos, all_attrs\n",
        "\n",
        "# Helper function to decode images (assumed to be provided)\n",
        "def decode_image_from_raw_bytes(raw_bytes):\n",
        "    \"\"\"Decodes raw bytes to an image.\"\"\"\n",
        "    img_array = np.frombuffer(raw_bytes, np.uint8)\n",
        "    img = cv2.imdecode(img_array, cv2.IMREAD_COLOR)\n",
        "    return img\n",
        "\n",
        "# Load dataset\n",
        "X, attr = load_lfw_dataset(use_raw=True, dx=32, dy=32, dimx=32, dimy=32)\n",
        "print(\"Dataset loaded successfully.\")\n"
      ]
    },
    {
      "cell_type": "code",
      "execution_count": 20,
      "metadata": {
        "colab": {
          "base_uri": "https://localhost:8080/",
          "height": 104,
          "referenced_widgets": [
            "bf45e877514f4e22b62c3761d3c69e38",
            "7ac0103df2a84dc7bf72d7552e3bff64",
            "4efc2d3af3a74050b12a21c2eb7b75b9",
            "0ac9deb282824c8db96912e051b7baa2",
            "d63feae3d490421dae6c2fd9e5c45ee4",
            "49b733177dd34f9089a4cf6301925a9e",
            "798724250a504d1ea888b6ff7d770e24",
            "d494c3a691c84e61bebdac19b854c3f9",
            "946a290154144d619ba71d215503b513",
            "24951e11e99a42a587ffb290a72f2916",
            "1b27177f60624d3e9cad623cbc239ecb"
          ]
        },
        "id": "9gEGXzO2yLO2",
        "outputId": "da0a7dd1-7879-4f2d-ffa4-972b08abbe41"
      },
      "outputs": [],
      "source": [
        "# import numpy as np\n",
        "# import pandas as pd\n",
        "# import tqdm\n",
        "# import tarfile\n",
        "# import os\n",
        "# X, attr = load_lfw_dataset(use_raw=True, dimx=32, dimy=32)"
      ]
    },
    {
      "cell_type": "code",
      "execution_count": 9,
      "metadata": {
        "id": "jarWcHcS0F0B"
      },
      "outputs": [],
      "source": [
        "X = X.astype('float32') / 255.0 - 0.5"
      ]
    },
    {
      "cell_type": "code",
      "execution_count": 10,
      "metadata": {
        "colab": {
          "base_uri": "https://localhost:8080/",
          "height": 266
        },
        "id": "qMeA9xLwyeC5",
        "outputId": "18990e77-d897-44c6-abd6-f5433fae40e2"
      },
      "outputs": [
        {
          "data": {
            "image/png": "[encoded data removed]",
            "text/plain": [
              "<Figure size 640x480 with 1 Axes>"
            ]
          },
          "metadata": {},
          "output_type": "display_data"
        }
      ],
      "source": [
        "import matplotlib.pyplot as plt\n",
        "def show_image(x):\n",
        "    plt.imshow(np.clip(x + 0.5, 0, 1))\n",
        "show_image(X[6])"
      ]
    },
    {
      "cell_type": "code",
      "execution_count": 11,
      "metadata": {
        "colab": {
          "base_uri": "https://localhost:8080/"
        },
        "id": "YzLlQc7EI1Ux",
        "outputId": "8a9df7d8-f21a-4566-dac0-b8bc250b2cee"
      },
      "outputs": [
        {
          "name": "stdout",
          "output_type": "stream",
          "text": [
            "(11828, 32, 32, 3)\n",
            "(1315, 32, 32, 3)\n"
          ]
        }
      ],
      "source": [
        "from sklearn.model_selection import train_test_split\n",
        "x_train, x_test = train_test_split(X, test_size=0.1, random_state=42)\n",
        "print(x_train.shape)\n",
        "print(x_test.shape)"
      ]
    },
    {
      "cell_type": "markdown",
      "metadata": {
        "id": "PwCOalblLXrE"
      },
      "source": [
        "### Implementing the Autoencoder"
      ]
    },
    {
      "cell_type": "code",
      "execution_count": 17,
      "metadata": {
        "id": "frahcYxRI2CB"
      },
      "outputs": [],
      "source": [
        "latent_dim = 02\n",
        "img_shape = X.shape[1:]\n",
        "class Autoencoder(Model):\n",
        "    def __init__(self,latent_dim):\n",
        "        super(Autoencoder,self).__init__()\n",
        "        self.latent_dim = latent_dim\n",
        "        self.encoder = tf.keras.Sequential([\n",
        "            layers.Flatten(),\n",
        "            layers.Dense(latent_dim,activation='relu'),\n",
        "\n",
        "        ])\n",
        "        self.decoder = tf.keras.Sequential([\n",
        "            layers.Dense(np.prod(img_shape),activation='sigmoid'),\n",
        "            layers.Reshape(img_shape)                                  \n",
        "        ])\n",
        "    def call(self,x):\n",
        "        encoded=self.encoder(x)\n",
        "        decoded=self.decoder(encoded)\n",
        "        return decoded\n",
        "autoencoder=Autoencoder(latent_dim)"
      ]
    },
    {
      "cell_type": "code",
      "execution_count": 18,
      "metadata": {
        "id": "4m7h7hhXI18f"
      },
      "outputs": [],
      "source": [
        "autoencoder.compile(optimizer='adamax',loss=losses.MeanSquaredError())\n"
      ]
    },
    {
      "cell_type": "markdown",
      "metadata": {
        "id": "1tTvaC1ALer8"
      },
      "source": [
        "### Model training"
      ]
    },
    {
      "cell_type": "code",
      "execution_count": 19,
      "metadata": {
        "colab": {
          "base_uri": "https://localhost:8080/"
        },
        "id": "p5zS4GuPT7XA",
        "outputId": "c6567192-16e2-42fe-e25b-5afbdd572188"
      },
      "outputs": [
        {
          "name": "stdout",
          "output_type": "stream",
          "text": [
            "Epoch 1/20\n",
            "370/370 [==============================] - 1s 2ms/step - loss: 0.0863 - val_loss: 0.0715\n",
            "Epoch 2/20\n",
            "370/370 [==============================] - 1s 2ms/step - loss: 0.0715 - val_loss: 0.0696\n",
            "Epoch 3/20\n",
            "370/370 [==============================] - 1s 2ms/step - loss: 0.0701 - val_loss: 0.0685\n",
            "Epoch 4/20\n",
            "370/370 [==============================] - 1s 2ms/step - loss: 0.0692 - val_loss: 0.0675\n",
            "Epoch 5/20\n",
            "370/370 [==============================] - 1s 2ms/step - loss: 0.0682 - val_loss: 0.0666\n",
            "Epoch 6/20\n",
            "370/370 [==============================] - 1s 2ms/step - loss: 0.0673 - val_loss: 0.0658\n",
            "Epoch 7/20\n",
            "370/370 [==============================] - 1s 2ms/step - loss: 0.0666 - val_loss: 0.0652\n",
            "Epoch 8/20\n",
            "370/370 [==============================] - 1s 2ms/step - loss: 0.0660 - val_loss: 0.0646\n",
            "Epoch 9/20\n",
            "370/370 [==============================] - 1s 2ms/step - loss: 0.0655 - val_loss: 0.0641\n",
            "Epoch 10/20\n",
            "370/370 [==============================] - 1s 2ms/step - loss: 0.0651 - val_loss: 0.0637\n",
            "Epoch 11/20\n",
            "370/370 [==============================] - 1s 2ms/step - loss: 0.0647 - val_loss: 0.0633\n",
            "Epoch 12/20\n",
            "370/370 [==============================] - 1s 2ms/step - loss: 0.0643 - val_loss: 0.0630\n",
            "Epoch 13/20\n",
            "370/370 [==============================] - 1s 2ms/step - loss: 0.0640 - val_loss: 0.0627\n",
            "Epoch 14/20\n",
            "370/370 [==============================] - 1s 2ms/step - loss: 0.0637 - val_loss: 0.0624\n",
            "Epoch 15/20\n",
            "370/370 [==============================] - 1s 2ms/step - loss: 0.0635 - val_loss: 0.0622\n",
            "Epoch 16/20\n",
            "370/370 [==============================] - 1s 2ms/step - loss: 0.0632 - val_loss: 0.0621\n",
            "Epoch 17/20\n",
            "370/370 [==============================] - 1s 2ms/step - loss: 0.0631 - val_loss: 0.0619\n",
            "Epoch 18/20\n",
            "370/370 [==============================] - 1s 2ms/step - loss: 0.0629 - val_loss: 0.0618\n",
            "Epoch 19/20\n",
            "370/370 [==============================] - 1s 2ms/step - loss: 0.0628 - val_loss: 0.0616\n",
            "Epoch 20/20\n",
            "370/370 [==============================] - 1s 2ms/step - loss: 0.0626 - val_loss: 0.0615\n"
          ]
        }
      ],
      "source": [
        "history = autoencoder.fit(x_train,x_train,epochs=20,shuffle=True,\n",
        "                          validation_data=(x_test,x_test))"
      ]
    },
    {
      "cell_type": "code",
      "execution_count": 20,
      "metadata": {
        "colab": {
          "base_uri": "https://localhost:8080/",
          "height": 295
        },
        "id": "3rlR6oQA3QHi",
        "outputId": "fecaa1e2-66ea-4cab-aaf3-d9c127d1df35"
      },
      "outputs": [
        {
          "data": {
            "image/png": "[encoded data removed]",
            "text/plain": [
              "<Figure size 640x480 with 1 Axes>"
            ]
          },
          "metadata": {},
          "output_type": "display_data"
        }
      ],
      "source": [
        "plt.plot(history.history['loss'])\n",
        "plt.plot(history.history['val_loss'])\n",
        "plt.title('model loss')\n",
        "plt.ylabel('loss')\n",
        "plt.xlabel('epoch')\n",
        "plt.legend(['train', 'test'], loc='upper left')\n",
        "plt.show()"
      ]
    },
    {
      "cell_type": "code",
      "execution_count": 21,
      "metadata": {
        "colab": {
          "base_uri": "https://localhost:8080/",
          "height": 1000
        },
        "id": "3kf1TRf93kXH",
        "outputId": "bb5baa8e-5f44-46d8-cd47-511b0371cbc9"
      },
      "outputs": [
        {
          "name": "stdout",
          "output_type": "stream",
          "text": [
            "1/1 [==============================] - 0s 25ms/step\n",
            "1/1 [==============================] - 0s 29ms/step\n"
          ]
        },
        {
          "data": {
            "image/png": "[encoded data removed]",
            "text/plain": [
              "<Figure size 640x480 with 3 Axes>"
            ]
          },
          "metadata": {},
          "output_type": "display_data"
        },
        {
          "name": "stdout",
          "output_type": "stream",
          "text": [
            "1/1 [==============================] - 0s 12ms/step\n",
            "1/1 [==============================] - 0s 12ms/step\n"
          ]
        },
        {
          "data": {
            "image/png": "[encoded data removed]",
            "text/plain": [
              "<Figure size 640x480 with 3 Axes>"
            ]
          },
          "metadata": {},
          "output_type": "display_data"
        },
        {
          "name": "stdout",
          "output_type": "stream",
          "text": [
            "1/1 [==============================] - 0s 12ms/step\n",
            "1/1 [==============================] - 0s 12ms/step\n"
          ]
        },
        {
          "data": {
            "image/png": "[encoded data removed]",
            "text/plain": [
              "<Figure size 640x480 with 3 Axes>"
            ]
          },
          "metadata": {},
          "output_type": "display_data"
        },
        {
          "name": "stdout",
          "output_type": "stream",
          "text": [
            "1/1 [==============================] - 0s 11ms/step\n",
            "1/1 [==============================] - 0s 12ms/step\n"
          ]
        },
        {
          "data": {
            "image/png": "[encoded data removed]",
            "text/plain": [
              "<Figure size 640x480 with 3 Axes>"
            ]
          },
          "metadata": {},
          "output_type": "display_data"
        },
        {
          "name": "stdout",
          "output_type": "stream",
          "text": [
            "1/1 [==============================] - 0s 11ms/step\n",
            "1/1 [==============================] - 0s 11ms/step\n"
          ]
        },
        {
          "data": {
            "image/png": "[encoded data removed]",
            "text/plain": [
              "<Figure size 640x480 with 3 Axes>"
            ]
          },
          "metadata": {},
          "output_type": "display_data"
        }
      ],
      "source": [
        "def visualize(img,encoder,decoder):\n",
        "    \"\"\"Draws original, encoded and decoded images\"\"\"\n",
        "    # img[None] will have shape of (1, 32, 32, 3) which is the same as the model input\n",
        "    code = encoder.predict(img[None])[0]\n",
        "    reco = decoder.predict(code[None])[0]\n",
        "\n",
        "    plt.subplot(1,3,1)\n",
        "    plt.title(\"Original\")\n",
        "    show_image(img)\n",
        "\n",
        "    plt.subplot(1,3,2)\n",
        "    plt.title(\"Code\")\n",
        "    plt.imshow(code.reshape([code.shape[-1]//2,-1]))\n",
        "\n",
        "    plt.subplot(1,3,3)\n",
        "    plt.title(\"Reconstructed\")\n",
        "    show_image(reco)\n",
        "    plt.show()\n",
        "\n",
        "for i in range(5):\n",
        "    img = x_test[i]\n",
        "    visualize(img,autoencoder.encoder,autoencoder.decoder)"
      ]
    },
    {
      "cell_type": "code",
      "execution_count": 1,
      "metadata": {},
      "outputs": [],
      "source": [
        "# import sys\n",
        "# import matplotlib.pyplot as plt\n",
        "# from matplotlib.backends.backend_pdf import PdfPages\n",
        "\n",
        "# def show_image(img, ax=None):\n",
        "#     \"\"\"Helper function to display an image with a consistent colormap\"\"\"\n",
        "#     if ax is None:\n",
        "#         ax = plt.gca()\n",
        "#     ax.imshow(img, cmap='gray')\n",
        "#     ax.axis('off')\n",
        "\n",
        "# def visualize(img, encoder, decoder):\n",
        "#     \"\"\"Draws original, encoded and decoded images and returns the plot figure\"\"\"\n",
        "#     fig, axes = plt.subplots(1, 3, figsize=(15, 5))\n",
        "    \n",
        "#     # Encode and decode the image\n",
        "#     code = encoder.predict(img[None])[0]\n",
        "#     reco = decoder.predict(code[None])[0]\n",
        "    \n",
        "#     # Original image\n",
        "#     axes[0].set_title(\"Original\")\n",
        "#     show_image(img, ax=axes[0])\n",
        "    \n",
        "#     # Encoded image\n",
        "#     axes[1].set_title(\"Code\")\n",
        "#     axes[1].imshow(code.reshape([code.shape[-1]//2, -1]), cmap='gray')\n",
        "#     axes[1].axis('off')\n",
        "    \n",
        "#     # Reconstructed image\n",
        "#     axes[2].set_title(\"Reconstructed\")\n",
        "#     show_image(reco, ax=axes[2])\n",
        "    \n",
        "#     return fig\n",
        "\n",
        "# # Redirect stdout to capture print statements\n",
        "# original_stdout = sys.stdout\n",
        "# with open('output.txt', 'w') as f:\n",
        "#     sys.stdout = f\n",
        "    \n",
        "#     # Create a PDF to save the plots\n",
        "#     with PdfPages('autoencoder_visualizations.pdf') as pdf:\n",
        "#         for i in range(5):\n",
        "#             img = x_test[i]\n",
        "#             fig = visualize(img, autoencoder.encoder, autoencoder.decoder)\n",
        "#             pdf.savefig(fig, bbox_inches='tight')  # Save with tight bounding box\n",
        "#             plt.close(fig)\n",
        "    \n",
        "#     print(\"Visualizations saved to autoencoder_visualizations.pdf\")\n",
        "    \n",
        "#     # Reset stdout to its original state\n",
        "#     sys.stdout = original_stdout\n",
        "\n",
        "# print(\"Output and visualizations saved successfully.\")\n"
      ]
    },
    {
      "cell_type": "code",
      "execution_count": null,
      "metadata": {
        "id": "7IdBrW71Wbtq"
      },
      "outputs": [],
      "source": []
    }
  ],
  "metadata": {
    "colab": {
      "collapsed_sections": [],
      "name": "Image_Reconstruction-Autoencoder.ipynb",
      "provenance": []
    },
    "kernelspec": {
      "display_name": "Python 3",
      "name": "python3"
    },
    "language_info": {
      "codemirror_mode": {
        "name": "ipython",
        "version": 3
      },
      "file_extension": ".py",
      "mimetype": "text/x-python",
      "name": "python",
      "nbconvert_exporter": "python",
      "pygments_lexer": "ipython3",
      "version": "3.8.19"
    },
    "widgets": {
      "application/vnd.jupyter.widget-state+json": {
        "0ac9deb282824c8db96912e051b7baa2": {
          "model_module": "@jupyter-widgets/controls",
          "model_module_version": "1.5.0",
          "model_name": "HTMLModel",
          "state": {
            "_dom_classes": [],
            "_model_module": "@jupyter-widgets/controls",
            "_model_module_version": "1.5.0",
            "_model_name": "HTMLModel",
            "_view_count": null,
            "_view_module": "@jupyter-widgets/controls",
            "_view_module_version": "1.5.0",
            "_view_name": "HTMLView",
            "description": "",
            "description_tooltip": null,
            "layout": "IPY_MODEL_24951e11e99a42a587ffb290a72f2916",
            "placeholder": "​",
            "style": "IPY_MODEL_1b27177f60624d3e9cad623cbc239ecb",
            "value": " 18983/18983 [00:30&lt;00:00, 1315.53it/s]"
          }
        },
        "1b27177f60624d3e9cad623cbc239ecb": {
          "model_module": "@jupyter-widgets/controls",
          "model_module_version": "1.5.0",
          "model_name": "DescriptionStyleModel",
          "state": {
            "_model_module": "@jupyter-widgets/controls",
            "_model_module_version": "1.5.0",
            "_model_name": "DescriptionStyleModel",
            "_view_count": null,
            "_view_module": "@jupyter-widgets/base",
            "_view_module_version": "1.2.0",
            "_view_name": "StyleView",
            "description_width": ""
          }
        },
        "24951e11e99a42a587ffb290a72f2916": {
          "model_module": "@jupyter-widgets/base",
          "model_module_version": "1.2.0",
          "model_name": "LayoutModel",
          "state": {
            "_model_module": "@jupyter-widgets/base",
            "_model_module_version": "1.2.0",
            "_model_name": "LayoutModel",
            "_view_count": null,
            "_view_module": "@jupyter-widgets/base",
            "_view_module_version": "1.2.0",
            "_view_name": "LayoutView",
            "align_content": null,
            "align_items": null,
            "align_self": null,
            "border": null,
            "bottom": null,
            "display": null,
            "flex": null,
            "flex_flow": null,
            "grid_area": null,
            "grid_auto_columns": null,
            "grid_auto_flow": null,
            "grid_auto_rows": null,
            "grid_column": null,
            "grid_gap": null,
            "grid_row": null,
            "grid_template_areas": null,
            "grid_template_columns": null,
            "grid_template_rows": null,
            "height": null,
            "justify_content": null,
            "justify_items": null,
            "left": null,
            "margin": null,
            "max_height": null,
            "max_width": null,
            "min_height": null,
            "min_width": null,
            "object_fit": null,
            "object_position": null,
            "order": null,
            "overflow": null,
            "overflow_x": null,
            "overflow_y": null,
            "padding": null,
            "right": null,
            "top": null,
            "visibility": null,
            "width": null
          }
        },
        "49b733177dd34f9089a4cf6301925a9e": {
          "model_module": "@jupyter-widgets/base",
          "model_module_version": "1.2.0",
          "model_name": "LayoutModel",
          "state": {
            "_model_module": "@jupyter-widgets/base",
            "_model_module_version": "1.2.0",
            "_model_name": "LayoutModel",
            "_view_count": null,
            "_view_module": "@jupyter-widgets/base",
            "_view_module_version": "1.2.0",
            "_view_name": "LayoutView",
            "align_content": null,
            "align_items": null,
            "align_self": null,
            "border": null,
            "bottom": null,
            "display": null,
            "flex": null,
            "flex_flow": null,
            "grid_area": null,
            "grid_auto_columns": null,
            "grid_auto_flow": null,
            "grid_auto_rows": null,
            "grid_column": null,
            "grid_gap": null,
            "grid_row": null,
            "grid_template_areas": null,
            "grid_template_columns": null,
            "grid_template_rows": null,
            "height": null,
            "justify_content": null,
            "justify_items": null,
            "left": null,
            "margin": null,
            "max_height": null,
            "max_width": null,
            "min_height": null,
            "min_width": null,
            "object_fit": null,
            "object_position": null,
            "order": null,
            "overflow": null,
            "overflow_x": null,
            "overflow_y": null,
            "padding": null,
            "right": null,
            "top": null,
            "visibility": null,
            "width": null
          }
        },
        "4efc2d3af3a74050b12a21c2eb7b75b9": {
          "model_module": "@jupyter-widgets/controls",
          "model_module_version": "1.5.0",
          "model_name": "FloatProgressModel",
          "state": {
            "_dom_classes": [],
            "_model_module": "@jupyter-widgets/controls",
            "_model_module_version": "1.5.0",
            "_model_name": "FloatProgressModel",
            "_view_count": null,
            "_view_module": "@jupyter-widgets/controls",
            "_view_module_version": "1.5.0",
            "_view_name": "ProgressView",
            "bar_style": "success",
            "description": "",
            "description_tooltip": null,
            "layout": "IPY_MODEL_d494c3a691c84e61bebdac19b854c3f9",
            "max": 18983,
            "min": 0,
            "orientation": "horizontal",
            "style": "IPY_MODEL_946a290154144d619ba71d215503b513",
            "value": 18983
          }
        },
        "798724250a504d1ea888b6ff7d770e24": {
          "model_module": "@jupyter-widgets/controls",
          "model_module_version": "1.5.0",
          "model_name": "DescriptionStyleModel",
          "state": {
            "_model_module": "@jupyter-widgets/controls",
            "_model_module_version": "1.5.0",
            "_model_name": "DescriptionStyleModel",
            "_view_count": null,
            "_view_module": "@jupyter-widgets/base",
            "_view_module_version": "1.2.0",
            "_view_name": "StyleView",
            "description_width": ""
          }
        },
        "7ac0103df2a84dc7bf72d7552e3bff64": {
          "model_module": "@jupyter-widgets/controls",
          "model_module_version": "1.5.0",
          "model_name": "HTMLModel",
          "state": {
            "_dom_classes": [],
            "_model_module": "@jupyter-widgets/controls",
            "_model_module_version": "1.5.0",
            "_model_name": "HTMLModel",
            "_view_count": null,
            "_view_module": "@jupyter-widgets/controls",
            "_view_module_version": "1.5.0",
            "_view_name": "HTMLView",
            "description": "",
            "description_tooltip": null,
            "layout": "IPY_MODEL_49b733177dd34f9089a4cf6301925a9e",
            "placeholder": "​",
            "style": "IPY_MODEL_798724250a504d1ea888b6ff7d770e24",
            "value": "100%"
          }
        },
        "946a290154144d619ba71d215503b513": {
          "model_module": "@jupyter-widgets/controls",
          "model_module_version": "1.5.0",
          "model_name": "ProgressStyleModel",
          "state": {
            "_model_module": "@jupyter-widgets/controls",
            "_model_module_version": "1.5.0",
            "_model_name": "ProgressStyleModel",
            "_view_count": null,
            "_view_module": "@jupyter-widgets/base",
            "_view_module_version": "1.2.0",
            "_view_name": "StyleView",
            "bar_color": null,
            "description_width": ""
          }
        },
        "bf45e877514f4e22b62c3761d3c69e38": {
          "model_module": "@jupyter-widgets/controls",
          "model_module_version": "1.5.0",
          "model_name": "HBoxModel",
          "state": {
            "_dom_classes": [],
            "_model_module": "@jupyter-widgets/controls",
            "_model_module_version": "1.5.0",
            "_model_name": "HBoxModel",
            "_view_count": null,
            "_view_module": "@jupyter-widgets/controls",
            "_view_module_version": "1.5.0",
            "_view_name": "HBoxView",
            "box_style": "",
            "children": [
              "IPY_MODEL_7ac0103df2a84dc7bf72d7552e3bff64",
              "IPY_MODEL_4efc2d3af3a74050b12a21c2eb7b75b9",
              "IPY_MODEL_0ac9deb282824c8db96912e051b7baa2"
            ],
            "layout": "IPY_MODEL_d63feae3d490421dae6c2fd9e5c45ee4"
          }
        },
        "d494c3a691c84e61bebdac19b854c3f9": {
          "model_module": "@jupyter-widgets/base",
          "model_module_version": "1.2.0",
          "model_name": "LayoutModel",
          "state": {
            "_model_module": "@jupyter-widgets/base",
            "_model_module_version": "1.2.0",
            "_model_name": "LayoutModel",
            "_view_count": null,
            "_view_module": "@jupyter-widgets/base",
            "_view_module_version": "1.2.0",
            "_view_name": "LayoutView",
            "align_content": null,
            "align_items": null,
            "align_self": null,
            "border": null,
            "bottom": null,
            "display": null,
            "flex": null,
            "flex_flow": null,
            "grid_area": null,
            "grid_auto_columns": null,
            "grid_auto_flow": null,
            "grid_auto_rows": null,
            "grid_column": null,
            "grid_gap": null,
            "grid_row": null,
            "grid_template_areas": null,
            "grid_template_columns": null,
            "grid_template_rows": null,
            "height": null,
            "justify_content": null,
            "justify_items": null,
            "left": null,
            "margin": null,
            "max_height": null,
            "max_width": null,
            "min_height": null,
            "min_width": null,
            "object_fit": null,
            "object_position": null,
            "order": null,
            "overflow": null,
            "overflow_x": null,
            "overflow_y": null,
            "padding": null,
            "right": null,
            "top": null,
            "visibility": null,
            "width": null
          }
        },
        "d63feae3d490421dae6c2fd9e5c45ee4": {
          "model_module": "@jupyter-widgets/base",
          "model_module_version": "1.2.0",
          "model_name": "LayoutModel",
          "state": {
            "_model_module": "@jupyter-widgets/base",
            "_model_module_version": "1.2.0",
            "_model_name": "LayoutModel",
            "_view_count": null,
            "_view_module": "@jupyter-widgets/base",
            "_view_module_version": "1.2.0",
            "_view_name": "LayoutView",
            "align_content": null,
            "align_items": null,
            "align_self": null,
            "border": null,
            "bottom": null,
            "display": null,
            "flex": null,
            "flex_flow": null,
            "grid_area": null,
            "grid_auto_columns": null,
            "grid_auto_flow": null,
            "grid_auto_rows": null,
            "grid_column": null,
            "grid_gap": null,
            "grid_row": null,
            "grid_template_areas": null,
            "grid_template_columns": null,
            "grid_template_rows": null,
            "height": null,
            "justify_content": null,
            "justify_items": null,
            "left": null,
            "margin": null,
            "max_height": null,
            "max_width": null,
            "min_height": null,
            "min_width": null,
            "object_fit": null,
            "object_position": null,
            "order": null,
            "overflow": null,
            "overflow_x": null,
            "overflow_y": null,
            "padding": null,
            "right": null,
            "top": null,
            "visibility": null,
            "width": null
          }
        }
      }
    }
  },
  "nbformat": 4,
  "nbformat_minor": 0
}
